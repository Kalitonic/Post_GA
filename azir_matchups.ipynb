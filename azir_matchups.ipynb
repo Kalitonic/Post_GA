{
 "cells": [
  {
   "cell_type": "markdown",
   "metadata": {},
   "source": [
    "**Azir Matchups Search Project**"
   ]
  },
  {
   "cell_type": "markdown",
   "metadata": {},
   "source": [
    "** _Organized & Cultivated Functions_ **"
   ]
  },
  {
   "cell_type": "markdown",
   "metadata": {},
   "source": [
    "---"
   ]
  },
  {
   "cell_type": "code",
   "execution_count": null,
   "metadata": {
    "collapsed": true
   },
   "outputs": [],
   "source": []
  },
  {
   "cell_type": "code",
   "execution_count": null,
   "metadata": {
    "collapsed": true
   },
   "outputs": [],
   "source": [
    "df = pd.read_csv(\"./clean_df.csv\") # clean df derived from work below in WORK DONE section\n",
    "                                   # check below to see how it was cleaned, and stored!\n",
    "available_champs = df['Matchup'].tolist()  # change Matchup row to list, makes it easy to\n",
    "                                           # check values against input\n",
    "\n",
    "def getInput():\n",
    "    matchup = input(\"Who are you facing? \")\n",
    "    return matchup\n",
    "    \n",
    "def checkAlpha(matchup):\n",
    "    if matchup.isalpha():        # check if alpha\n",
    "        matchup = matchup.title()\n",
    "        return matchup\n",
    "    else:\n",
    "        print(\"Please enter a champion name.\")\n",
    "        \n",
    "def checkAvailable(matchup):\n",
    "    if matchup in available_champs:              # check if input == anything in Matchup row\n",
    "        matchup_row = df[df['Matchup'] == matchup]\n",
    "        return matchup_row\n",
    "    else:\n",
    "        print(\"Unavailable.\")\n",
    "        print(\"Please choose from:\")\n",
    "        for i in range(len(available_champs)):\n",
    "            print(available_champs[i])\n",
    "\n",
    "def getList(matchup_row):\n",
    "    info_list = df.iloc[matchup_row.index].values.tolist()\n",
    "    return info_list\n",
    "\n",
    "def printInfo(info_list):\n",
    "    print(\"Against\", info_list[0][0])\n",
    "    print(\"\\nDifficulty:\", info_list[0][3])\n",
    "    print(\"\\nSummoner's:\", info_list[0][1], \"\\n\")\n",
    "    print(info_list[0][2])\n",
    "    \n",
    "def runSearch():\n",
    "    matchup = getInput()\n",
    "    matchup = checkAlpha(matchup)\n",
    "    matchup_row = checkAvailable(matchup)\n",
    "    info_list = getList(matchup_row)\n",
    "    printInfo(info_list)"
   ]
  },
  {
   "cell_type": "code",
   "execution_count": null,
   "metadata": {
    "collapsed": true
   },
   "outputs": [],
   "source": [
    "# ******* #\n",
    "# So what needs to be done next?\n",
    "#\n",
    "# Bug fixing -- Do we need more checks? \n",
    "# Need to runSearch again smoothly if bad input\n",
    "# \n",
    "# \n",
    "# ******* #\n",
    "# Analysis:\n",
    "# How many easy/medium/hard?\n",
    "# Hard analysis: how many sins? how many high-mobility? how many sustain? how many Long range?\n",
    "# Farm lanes: How many farm lanes? Are the majoirty easy/medium/hard? \n",
    "# -- Can add more later --\n",
    "#\n",
    "# ******* #"
   ]
  },
  {
   "cell_type": "markdown",
   "metadata": {},
   "source": [
    "---"
   ]
  },
  {
   "cell_type": "markdown",
   "metadata": {},
   "source": [
    "** Work Done **\n",
    "---"
   ]
  },
  {
   "cell_type": "code",
   "execution_count": 1,
   "metadata": {
    "collapsed": true
   },
   "outputs": [],
   "source": [
    "import pandas as pd\n",
    "import numpy as np"
   ]
  },
  {
   "cell_type": "markdown",
   "metadata": {},
   "source": [
    "** Cleaning the DataFrame **"
   ]
  },
  {
   "cell_type": "code",
   "execution_count": 2,
   "metadata": {
    "collapsed": true
   },
   "outputs": [],
   "source": [
    "df = pd.read_csv(\"./azir_matchups.csv\")"
   ]
  },
  {
   "cell_type": "code",
   "execution_count": 3,
   "metadata": {
    "collapsed": true
   },
   "outputs": [],
   "source": [
    "df = df.iloc[2:]"
   ]
  },
  {
   "cell_type": "code",
   "execution_count": 5,
   "metadata": {
    "collapsed": true
   },
   "outputs": [],
   "source": [
    "df = df.reset_index()"
   ]
  },
  {
   "cell_type": "code",
   "execution_count": 7,
   "metadata": {
    "collapsed": true
   },
   "outputs": [],
   "source": [
    "df = df.drop('index', axis=1)"
   ]
  },
  {
   "cell_type": "code",
   "execution_count": 9,
   "metadata": {
    "collapsed": true
   },
   "outputs": [],
   "source": [
    "df.columns = df.iloc[0]"
   ]
  },
  {
   "cell_type": "code",
   "execution_count": 11,
   "metadata": {
    "collapsed": true
   },
   "outputs": [],
   "source": [
    "df = df.reindex(df.index.drop(0))"
   ]
  },
  {
   "cell_type": "code",
   "execution_count": 12,
   "metadata": {
    "collapsed": true
   },
   "outputs": [],
   "source": [
    "df = df.dropna(how='all')"
   ]
  },
  {
   "cell_type": "code",
   "execution_count": 13,
   "metadata": {
    "collapsed": true
   },
   "outputs": [],
   "source": [
    "df = df.dropna(axis='columns', how='all')"
   ]
  },
  {
   "cell_type": "code",
   "execution_count": 15,
   "metadata": {
    "collapsed": true
   },
   "outputs": [],
   "source": [
    "df = df.reset_index()"
   ]
  },
  {
   "cell_type": "code",
   "execution_count": 16,
   "metadata": {
    "collapsed": true
   },
   "outputs": [],
   "source": [
    "df = df.drop('index', axis=1)"
   ]
  },
  {
   "cell_type": "code",
   "execution_count": 18,
   "metadata": {
    "collapsed": true
   },
   "outputs": [],
   "source": [
    "clean_df = df"
   ]
  },
  {
   "cell_type": "code",
   "execution_count": 19,
   "metadata": {
    "collapsed": true
   },
   "outputs": [],
   "source": [
    "# saves a df to a csv file\n",
    "def saveDFtoCSV(df, name):\n",
    "    df.to_csv(str(name)+'.csv', index=False)"
   ]
  },
  {
   "cell_type": "code",
   "execution_count": 21,
   "metadata": {
    "collapsed": true
   },
   "outputs": [],
   "source": [
    "# saveDFtoCSV(clean_df, 'clean_df') \n",
    "# this only needs to be run once, the clean_df is saved to clean_df.csv"
   ]
  },
  {
   "cell_type": "markdown",
   "metadata": {},
   "source": [
    "** Working with the Clean DF **"
   ]
  },
  {
   "cell_type": "code",
   "execution_count": 2,
   "metadata": {
    "collapsed": true
   },
   "outputs": [],
   "source": [
    "df = pd.read_csv(\"./clean_df.csv\")"
   ]
  },
  {
   "cell_type": "code",
   "execution_count": 3,
   "metadata": {
    "scrolled": true
   },
   "outputs": [
    {
     "data": {
      "text/html": [
       "<div>\n",
       "<style>\n",
       "    .dataframe thead tr:only-child th {\n",
       "        text-align: right;\n",
       "    }\n",
       "\n",
       "    .dataframe thead th {\n",
       "        text-align: left;\n",
       "    }\n",
       "\n",
       "    .dataframe tbody tr th {\n",
       "        vertical-align: top;\n",
       "    }\n",
       "</style>\n",
       "<table border=\"1\" class=\"dataframe\">\n",
       "  <thead>\n",
       "    <tr style=\"text-align: right;\">\n",
       "      <th></th>\n",
       "      <th>Matchup</th>\n",
       "      <th>2nd Spell</th>\n",
       "      <th>Tips</th>\n",
       "      <th>Difficulty</th>\n",
       "    </tr>\n",
       "  </thead>\n",
       "  <tbody>\n",
       "    <tr>\n",
       "      <th>0</th>\n",
       "      <td>Ahri</td>\n",
       "      <td>Cleanse/Exhaust</td>\n",
       "      <td>It should be pretty easy lane pre 6. She will ...</td>\n",
       "      <td>Medium</td>\n",
       "    </tr>\n",
       "    <tr>\n",
       "      <th>1</th>\n",
       "      <td>Akali</td>\n",
       "      <td>Exhaust</td>\n",
       "      <td>Easy pre 6. Poke her when she is going for far...</td>\n",
       "      <td>Medium</td>\n",
       "    </tr>\n",
       "    <tr>\n",
       "      <th>2</th>\n",
       "      <td>Anivia</td>\n",
       "      <td>Cleanse/Teleport</td>\n",
       "      <td>Its not the hardest matchup. Pre 6 shove her i...</td>\n",
       "      <td>Easy</td>\n",
       "    </tr>\n",
       "    <tr>\n",
       "      <th>3</th>\n",
       "      <td>Annie</td>\n",
       "      <td>Cleanse</td>\n",
       "      <td>Watch for her stun. If she is keeping it - the...</td>\n",
       "      <td>Medium</td>\n",
       "    </tr>\n",
       "    <tr>\n",
       "      <th>4</th>\n",
       "      <td>Aurelion Sol</td>\n",
       "      <td>Cleanse/Teleport</td>\n",
       "      <td>He will want to shove the lane so try to punis...</td>\n",
       "      <td>Easy</td>\n",
       "    </tr>\n",
       "    <tr>\n",
       "      <th>5</th>\n",
       "      <td>Brand</td>\n",
       "      <td>Barrier/Heal/Cleanse</td>\n",
       "      <td>Don't stay in minions. You can take the early ...</td>\n",
       "      <td>Easy</td>\n",
       "    </tr>\n",
       "    <tr>\n",
       "      <th>6</th>\n",
       "      <td>Cassiopeia</td>\n",
       "      <td>Heal/Exhaust&gt;Cleanse</td>\n",
       "      <td>Dodge her Q so she won't have the bonus dmg on...</td>\n",
       "      <td>Medium</td>\n",
       "    </tr>\n",
       "    <tr>\n",
       "      <th>7</th>\n",
       "      <td>Cho'Gath</td>\n",
       "      <td>Barrier</td>\n",
       "      <td>Keep the distance. Dodge his Q. Poke him all t...</td>\n",
       "      <td>Easy</td>\n",
       "    </tr>\n",
       "    <tr>\n",
       "      <th>8</th>\n",
       "      <td>Corki</td>\n",
       "      <td>Heal/Barrier&gt;Teleport</td>\n",
       "      <td>His Q is easy to dodge. Keep your distance - h...</td>\n",
       "      <td>Easy</td>\n",
       "    </tr>\n",
       "    <tr>\n",
       "      <th>9</th>\n",
       "      <td>Diana</td>\n",
       "      <td>Exhaust</td>\n",
       "      <td>Pre 6 its quite easy. Poke her a lot when she ...</td>\n",
       "      <td>Medium</td>\n",
       "    </tr>\n",
       "    <tr>\n",
       "      <th>10</th>\n",
       "      <td>Ekko</td>\n",
       "      <td>Exhaust</td>\n",
       "      <td>He will most likely shove the lane with Q. Don...</td>\n",
       "      <td>Medium</td>\n",
       "    </tr>\n",
       "    <tr>\n",
       "      <th>11</th>\n",
       "      <td>Ezreal</td>\n",
       "      <td>Heal/Barrier</td>\n",
       "      <td>This matchup is simple - no matter if he is AD...</td>\n",
       "      <td>Easy</td>\n",
       "    </tr>\n",
       "    <tr>\n",
       "      <th>12</th>\n",
       "      <td>Fizz</td>\n",
       "      <td>Exhaust</td>\n",
       "      <td>Punish him early levels. If he is going for fa...</td>\n",
       "      <td>Hard</td>\n",
       "    </tr>\n",
       "    <tr>\n",
       "      <th>13</th>\n",
       "      <td>Galio</td>\n",
       "      <td>Teleport</td>\n",
       "      <td>He is tanky. Its a good idea to get an early V...</td>\n",
       "      <td>Medium</td>\n",
       "    </tr>\n",
       "    <tr>\n",
       "      <th>14</th>\n",
       "      <td>Gangplank</td>\n",
       "      <td>Teleport/Barrier&gt;Heal</td>\n",
       "      <td>You can get Doran Shield first to deny his Q p...</td>\n",
       "      <td>Easy</td>\n",
       "    </tr>\n",
       "    <tr>\n",
       "      <th>15</th>\n",
       "      <td>Heimerdinger</td>\n",
       "      <td>Teleport&gt;Barrier/Heal</td>\n",
       "      <td>Destroy his turrets with your soldiers. Stay b...</td>\n",
       "      <td>Easy</td>\n",
       "    </tr>\n",
       "    <tr>\n",
       "      <th>16</th>\n",
       "      <td>Jayce</td>\n",
       "      <td>Barrier/Exhaust</td>\n",
       "      <td>Dodge his E Q poke. Avoid fighting him 1v1. He...</td>\n",
       "      <td>Medium</td>\n",
       "    </tr>\n",
       "    <tr>\n",
       "      <th>17</th>\n",
       "      <td>Karma</td>\n",
       "      <td>Heal/Barrier&gt;Teleport</td>\n",
       "      <td>In my opinion she is a nice safe pick vs Azir....</td>\n",
       "      <td>Medium</td>\n",
       "    </tr>\n",
       "    <tr>\n",
       "      <th>18</th>\n",
       "      <td>Karthus</td>\n",
       "      <td>Barrier/Teleport</td>\n",
       "      <td>His Q is easy to dodge. Never stay in his E. Y...</td>\n",
       "      <td>Easy</td>\n",
       "    </tr>\n",
       "    <tr>\n",
       "      <th>19</th>\n",
       "      <td>Kassadin</td>\n",
       "      <td>Teleport/Exhaust&gt;Heal</td>\n",
       "      <td>Pre 6 its not the hardest matchup. He will pok...</td>\n",
       "      <td>Hard</td>\n",
       "    </tr>\n",
       "    <tr>\n",
       "      <th>20</th>\n",
       "      <td>Katarina</td>\n",
       "      <td>Exhaust</td>\n",
       "      <td>Some people thinks that she is a hard matchup ...</td>\n",
       "      <td>Medium</td>\n",
       "    </tr>\n",
       "    <tr>\n",
       "      <th>21</th>\n",
       "      <td>Kayle</td>\n",
       "      <td>Barrier/Heal/TP/Exhaust</td>\n",
       "      <td>It's mostly the farm lane. She will shove you ...</td>\n",
       "      <td>Easy</td>\n",
       "    </tr>\n",
       "    <tr>\n",
       "      <th>22</th>\n",
       "      <td>Kennen</td>\n",
       "      <td>Barrier/Heal/Exhaust/TP</td>\n",
       "      <td>Stay behind a minion to avoid his Q. Care for ...</td>\n",
       "      <td>Easy</td>\n",
       "    </tr>\n",
       "    <tr>\n",
       "      <th>23</th>\n",
       "      <td>LeBlanc</td>\n",
       "      <td>Barrier/Exhaust</td>\n",
       "      <td>Its a skill matchup. Avoid trading when you ar...</td>\n",
       "      <td>Hard</td>\n",
       "    </tr>\n",
       "    <tr>\n",
       "      <th>24</th>\n",
       "      <td>Lissandra</td>\n",
       "      <td>Cleanse</td>\n",
       "      <td>Don't stay behind minions so her Q won't hit y...</td>\n",
       "      <td>Easy</td>\n",
       "    </tr>\n",
       "    <tr>\n",
       "      <th>25</th>\n",
       "      <td>Lucian</td>\n",
       "      <td>Barrier/Heal/Exhaust</td>\n",
       "      <td>Avoid long trades versus him. He got super str...</td>\n",
       "      <td>Medium</td>\n",
       "    </tr>\n",
       "    <tr>\n",
       "      <th>26</th>\n",
       "      <td>Lulu</td>\n",
       "      <td>Barrier/Heal/Cleanse</td>\n",
       "      <td>Mostly a farm lane. A good Lulu will just neve...</td>\n",
       "      <td>Easy</td>\n",
       "    </tr>\n",
       "    <tr>\n",
       "      <th>27</th>\n",
       "      <td>Lux</td>\n",
       "      <td>Cleanse&gt;Barrier</td>\n",
       "      <td>Her Q is quite easy to dodge but better to be ...</td>\n",
       "      <td>Medium</td>\n",
       "    </tr>\n",
       "    <tr>\n",
       "      <th>28</th>\n",
       "      <td>Malzahar</td>\n",
       "      <td>Barrier/Teleport</td>\n",
       "      <td>Mostly a farm lane. AA him to turn off his pas...</td>\n",
       "      <td>Medium</td>\n",
       "    </tr>\n",
       "    <tr>\n",
       "      <th>29</th>\n",
       "      <td>Mordekaiser</td>\n",
       "      <td>Barrier/Heal/Teleport</td>\n",
       "      <td>Mostly a farm lane. He will block most of your...</td>\n",
       "      <td>Easy</td>\n",
       "    </tr>\n",
       "    <tr>\n",
       "      <th>30</th>\n",
       "      <td>Morgana</td>\n",
       "      <td>Barrier/Cleanse/Heal/TP</td>\n",
       "      <td>Mostly a farm lane. Her Q is pretty easy to do...</td>\n",
       "      <td>Easy</td>\n",
       "    </tr>\n",
       "    <tr>\n",
       "      <th>31</th>\n",
       "      <td>Orianna</td>\n",
       "      <td>Heal/Barrier</td>\n",
       "      <td>Abuse her lack of mobility - call a jungler fo...</td>\n",
       "      <td>Medium</td>\n",
       "    </tr>\n",
       "    <tr>\n",
       "      <th>32</th>\n",
       "      <td>Pantheon</td>\n",
       "      <td>Cleanse/Barrier/Heal</td>\n",
       "      <td>Get a Doran Shield first to deny his Q poke. P...</td>\n",
       "      <td>Medium</td>\n",
       "    </tr>\n",
       "    <tr>\n",
       "      <th>33</th>\n",
       "      <td>Ryze</td>\n",
       "      <td>Cleanse</td>\n",
       "      <td>Try to outpoke him hard at level 1 - he will h...</td>\n",
       "      <td>Medium</td>\n",
       "    </tr>\n",
       "    <tr>\n",
       "      <th>34</th>\n",
       "      <td>Swain</td>\n",
       "      <td>Heal/Barrier/Cleanse</td>\n",
       "      <td>Basically he won't do anything to you unless h...</td>\n",
       "      <td>Easy</td>\n",
       "    </tr>\n",
       "    <tr>\n",
       "      <th>35</th>\n",
       "      <td>Syndra</td>\n",
       "      <td>Cleanse/Barrier&gt;Heal</td>\n",
       "      <td>Dont let her free poke you with Q - be on the ...</td>\n",
       "      <td>Hard</td>\n",
       "    </tr>\n",
       "    <tr>\n",
       "      <th>36</th>\n",
       "      <td>Taliyah</td>\n",
       "      <td>Heal/Barrier&gt;Teleport</td>\n",
       "      <td>Stay behind minions to avoid her Q dmg. Get ea...</td>\n",
       "      <td>Medium</td>\n",
       "    </tr>\n",
       "    <tr>\n",
       "      <th>37</th>\n",
       "      <td>Talon</td>\n",
       "      <td>Exhaust&gt;Barrier</td>\n",
       "      <td>Poke him every time he want to CS. Care for hi...</td>\n",
       "      <td>Hard</td>\n",
       "    </tr>\n",
       "    <tr>\n",
       "      <th>38</th>\n",
       "      <td>Teemo</td>\n",
       "      <td>Heal/Barrier</td>\n",
       "      <td>Its easy lane. Bully him hard. You can hit him...</td>\n",
       "      <td>Easy</td>\n",
       "    </tr>\n",
       "    <tr>\n",
       "      <th>39</th>\n",
       "      <td>Twisted Fate</td>\n",
       "      <td>Cleanse&gt;Teleport</td>\n",
       "      <td>His Q is easy to dodge. Don't stay near minion...</td>\n",
       "      <td>Easy</td>\n",
       "    </tr>\n",
       "    <tr>\n",
       "      <th>40</th>\n",
       "      <td>Veigar</td>\n",
       "      <td>Cleanse&gt;Barrier/Teleport</td>\n",
       "      <td>Veigar wants to stack - try to deny it by push...</td>\n",
       "      <td>Easy</td>\n",
       "    </tr>\n",
       "    <tr>\n",
       "      <th>41</th>\n",
       "      <td>Vel'Koz</td>\n",
       "      <td>Heal/Barrier/Teleport</td>\n",
       "      <td>Farm lane mostly. He will shove with W and he ...</td>\n",
       "      <td>Medium</td>\n",
       "    </tr>\n",
       "    <tr>\n",
       "      <th>42</th>\n",
       "      <td>Viktor</td>\n",
       "      <td>Heal/Barrier/Teleport</td>\n",
       "      <td>Farm lane mostly. Care for his level 1 - he ca...</td>\n",
       "      <td>Medium</td>\n",
       "    </tr>\n",
       "    <tr>\n",
       "      <th>43</th>\n",
       "      <td>Vladimir</td>\n",
       "      <td>Barrier/Heal</td>\n",
       "      <td>You want fo farm early. Try to push him to den...</td>\n",
       "      <td>Hard</td>\n",
       "    </tr>\n",
       "    <tr>\n",
       "      <th>44</th>\n",
       "      <td>Xerath</td>\n",
       "      <td>Cleanse/Heal/Barrier</td>\n",
       "      <td>Get early boots to make it easier to avoid his...</td>\n",
       "      <td>Medium</td>\n",
       "    </tr>\n",
       "    <tr>\n",
       "      <th>45</th>\n",
       "      <td>Yasuo</td>\n",
       "      <td>Exhaust</td>\n",
       "      <td>I usually just freeze the lane under turret an...</td>\n",
       "      <td>Medium</td>\n",
       "    </tr>\n",
       "    <tr>\n",
       "      <th>46</th>\n",
       "      <td>Zed</td>\n",
       "      <td>Exhaust/Barrier</td>\n",
       "      <td>Bully him hard before level 6. Don't let him f...</td>\n",
       "      <td>Hard</td>\n",
       "    </tr>\n",
       "    <tr>\n",
       "      <th>47</th>\n",
       "      <td>Ziggs</td>\n",
       "      <td>Heal/Barrier/Teleport</td>\n",
       "      <td>You can get early boots to make his Q easier t...</td>\n",
       "      <td>Easy</td>\n",
       "    </tr>\n",
       "    <tr>\n",
       "      <th>48</th>\n",
       "      <td>Zilean</td>\n",
       "      <td>Heal/Barrier/Teleport</td>\n",
       "      <td>Dodge his bombs - early boots can help you wit...</td>\n",
       "      <td>Easy</td>\n",
       "    </tr>\n",
       "    <tr>\n",
       "      <th>49</th>\n",
       "      <td>Zoe</td>\n",
       "      <td>Cleanse</td>\n",
       "      <td>Stay behind minions but not so close to them -...</td>\n",
       "      <td>Easy</td>\n",
       "    </tr>\n",
       "    <tr>\n",
       "      <th>50</th>\n",
       "      <td>Zyra</td>\n",
       "      <td>Heal/Barrier&gt;Cleanse</td>\n",
       "      <td>You can step on her seeds to destroy them. Sid...</td>\n",
       "      <td>Easy</td>\n",
       "    </tr>\n",
       "  </tbody>\n",
       "</table>\n",
       "</div>"
      ],
      "text/plain": [
       "         Matchup                 2nd Spell  \\\n",
       "0           Ahri           Cleanse/Exhaust   \n",
       "1          Akali                   Exhaust   \n",
       "2         Anivia          Cleanse/Teleport   \n",
       "3          Annie                   Cleanse   \n",
       "4   Aurelion Sol          Cleanse/Teleport   \n",
       "5          Brand      Barrier/Heal/Cleanse   \n",
       "6     Cassiopeia      Heal/Exhaust>Cleanse   \n",
       "7       Cho'Gath                   Barrier   \n",
       "8          Corki     Heal/Barrier>Teleport   \n",
       "9          Diana                   Exhaust   \n",
       "10          Ekko                   Exhaust   \n",
       "11        Ezreal              Heal/Barrier   \n",
       "12          Fizz                   Exhaust   \n",
       "13         Galio                  Teleport   \n",
       "14     Gangplank     Teleport/Barrier>Heal   \n",
       "15  Heimerdinger     Teleport>Barrier/Heal   \n",
       "16         Jayce           Barrier/Exhaust   \n",
       "17         Karma     Heal/Barrier>Teleport   \n",
       "18       Karthus          Barrier/Teleport   \n",
       "19      Kassadin     Teleport/Exhaust>Heal   \n",
       "20      Katarina                   Exhaust   \n",
       "21         Kayle   Barrier/Heal/TP/Exhaust   \n",
       "22        Kennen   Barrier/Heal/Exhaust/TP   \n",
       "23       LeBlanc           Barrier/Exhaust   \n",
       "24     Lissandra                   Cleanse   \n",
       "25        Lucian      Barrier/Heal/Exhaust   \n",
       "26          Lulu      Barrier/Heal/Cleanse   \n",
       "27           Lux           Cleanse>Barrier   \n",
       "28      Malzahar          Barrier/Teleport   \n",
       "29   Mordekaiser     Barrier/Heal/Teleport   \n",
       "30       Morgana   Barrier/Cleanse/Heal/TP   \n",
       "31       Orianna              Heal/Barrier   \n",
       "32      Pantheon      Cleanse/Barrier/Heal   \n",
       "33          Ryze                   Cleanse   \n",
       "34         Swain      Heal/Barrier/Cleanse   \n",
       "35        Syndra      Cleanse/Barrier>Heal   \n",
       "36       Taliyah     Heal/Barrier>Teleport   \n",
       "37         Talon           Exhaust>Barrier   \n",
       "38         Teemo              Heal/Barrier   \n",
       "39  Twisted Fate          Cleanse>Teleport   \n",
       "40        Veigar  Cleanse>Barrier/Teleport   \n",
       "41       Vel'Koz     Heal/Barrier/Teleport   \n",
       "42        Viktor     Heal/Barrier/Teleport   \n",
       "43      Vladimir              Barrier/Heal   \n",
       "44        Xerath      Cleanse/Heal/Barrier   \n",
       "45         Yasuo                   Exhaust   \n",
       "46           Zed           Exhaust/Barrier   \n",
       "47         Ziggs     Heal/Barrier/Teleport   \n",
       "48        Zilean     Heal/Barrier/Teleport   \n",
       "49           Zoe                   Cleanse   \n",
       "50          Zyra      Heal/Barrier>Cleanse   \n",
       "\n",
       "                                                 Tips Difficulty  \n",
       "0   It should be pretty easy lane pre 6. She will ...     Medium  \n",
       "1   Easy pre 6. Poke her when she is going for far...     Medium  \n",
       "2   Its not the hardest matchup. Pre 6 shove her i...       Easy  \n",
       "3   Watch for her stun. If she is keeping it - the...     Medium  \n",
       "4   He will want to shove the lane so try to punis...       Easy  \n",
       "5   Don't stay in minions. You can take the early ...       Easy  \n",
       "6   Dodge her Q so she won't have the bonus dmg on...     Medium  \n",
       "7   Keep the distance. Dodge his Q. Poke him all t...       Easy  \n",
       "8   His Q is easy to dodge. Keep your distance - h...       Easy  \n",
       "9   Pre 6 its quite easy. Poke her a lot when she ...     Medium  \n",
       "10  He will most likely shove the lane with Q. Don...     Medium  \n",
       "11  This matchup is simple - no matter if he is AD...       Easy  \n",
       "12  Punish him early levels. If he is going for fa...       Hard  \n",
       "13  He is tanky. Its a good idea to get an early V...     Medium  \n",
       "14  You can get Doran Shield first to deny his Q p...       Easy  \n",
       "15  Destroy his turrets with your soldiers. Stay b...       Easy  \n",
       "16  Dodge his E Q poke. Avoid fighting him 1v1. He...     Medium  \n",
       "17  In my opinion she is a nice safe pick vs Azir....     Medium  \n",
       "18  His Q is easy to dodge. Never stay in his E. Y...       Easy  \n",
       "19  Pre 6 its not the hardest matchup. He will pok...       Hard  \n",
       "20  Some people thinks that she is a hard matchup ...     Medium  \n",
       "21  It's mostly the farm lane. She will shove you ...       Easy  \n",
       "22  Stay behind a minion to avoid his Q. Care for ...       Easy  \n",
       "23  Its a skill matchup. Avoid trading when you ar...       Hard  \n",
       "24  Don't stay behind minions so her Q won't hit y...       Easy  \n",
       "25  Avoid long trades versus him. He got super str...     Medium  \n",
       "26  Mostly a farm lane. A good Lulu will just neve...       Easy  \n",
       "27  Her Q is quite easy to dodge but better to be ...     Medium  \n",
       "28  Mostly a farm lane. AA him to turn off his pas...     Medium  \n",
       "29  Mostly a farm lane. He will block most of your...       Easy  \n",
       "30  Mostly a farm lane. Her Q is pretty easy to do...       Easy  \n",
       "31  Abuse her lack of mobility - call a jungler fo...     Medium  \n",
       "32  Get a Doran Shield first to deny his Q poke. P...     Medium  \n",
       "33  Try to outpoke him hard at level 1 - he will h...     Medium  \n",
       "34  Basically he won't do anything to you unless h...       Easy  \n",
       "35  Dont let her free poke you with Q - be on the ...       Hard  \n",
       "36  Stay behind minions to avoid her Q dmg. Get ea...     Medium  \n",
       "37  Poke him every time he want to CS. Care for hi...       Hard  \n",
       "38  Its easy lane. Bully him hard. You can hit him...       Easy  \n",
       "39  His Q is easy to dodge. Don't stay near minion...       Easy  \n",
       "40  Veigar wants to stack - try to deny it by push...       Easy  \n",
       "41  Farm lane mostly. He will shove with W and he ...     Medium  \n",
       "42  Farm lane mostly. Care for his level 1 - he ca...     Medium  \n",
       "43  You want fo farm early. Try to push him to den...       Hard  \n",
       "44  Get early boots to make it easier to avoid his...     Medium  \n",
       "45  I usually just freeze the lane under turret an...     Medium  \n",
       "46  Bully him hard before level 6. Don't let him f...       Hard  \n",
       "47  You can get early boots to make his Q easier t...       Easy  \n",
       "48  Dodge his bombs - early boots can help you wit...       Easy  \n",
       "49  Stay behind minions but not so close to them -...       Easy  \n",
       "50  You can step on her seeds to destroy them. Sid...       Easy  "
      ]
     },
     "execution_count": 3,
     "metadata": {},
     "output_type": "execute_result"
    }
   ],
   "source": [
    "df"
   ]
  },
  {
   "cell_type": "markdown",
   "metadata": {},
   "source": [
    "** Getting User Input **"
   ]
  },
  {
   "cell_type": "code",
   "execution_count": 27,
   "metadata": {
    "collapsed": true
   },
   "outputs": [],
   "source": [
    "# Check work below this to see how functions were cultivated\n",
    "\n",
    "available_champs = df['Matchup'].tolist()\n",
    "\n",
    "def getInput():\n",
    "    matchup = input(\"Who are you facing? \")\n",
    "    return matchup\n",
    "    \n",
    "def checkAlpha(matchup):\n",
    "    if matchup.isalpha():        # check if alpha\n",
    "        matchup = matchup.title()\n",
    "        return matchup\n",
    "    else:\n",
    "        print(\"Please enter a champion name.\")\n",
    "        \n",
    "def checkAvailable(matchup):\n",
    "    if matchup in available_champs:\n",
    "        matchup_row = df[df['Matchup'] == matchup]\n",
    "        return matchup_row\n",
    "    else:\n",
    "        print(\"Unavailable.\")\n",
    "        print(\"Please choose from:\")\n",
    "        for i in range(len(available_champs)):\n",
    "            print(available_champs[i])\n",
    "\n",
    "def getList(matchup_row):\n",
    "    info_list = df.iloc[matchup_row.index].values.tolist()\n",
    "    return info_list\n",
    "\n",
    "def printInfo(info_list):\n",
    "    print(\"Against\", info_list[0][0])\n",
    "    print(\"\\nDifficulty:\", info_list[0][3])\n",
    "    print(\"\\nSummoner's:\", info_list[0][1], \"\\n\")\n",
    "    print(info_list[0][2])\n",
    "    \n",
    "def runSearch():\n",
    "    matchup = getInput()\n",
    "    matchup = checkAlpha(matchup)\n",
    "    matchup_row = checkAvailable(matchup)\n",
    "    info_list = getList(matchup_row)\n",
    "    printInfo(info_list)"
   ]
  },
  {
   "cell_type": "code",
   "execution_count": 28,
   "metadata": {},
   "outputs": [
    {
     "name": "stdout",
     "output_type": "stream",
     "text": [
      "Who are you facing? vladimir\n",
      "Against Vladimir\n",
      "\n",
      "Difficulty: Hard\n",
      "\n",
      "Summoner's: Barrier/Heal \n",
      "\n",
      "You want fo farm early. Try to push him to deny his CS. Don't let him bully you - watch the empowered Q. You can try to poke him but he will easily heal it back. After Morello (2nd item) you can try to fight him. After 6 care for his burst - Barrier/Zhonya his R damage.\n"
     ]
    }
   ],
   "source": [
    "runSearch()"
   ]
  },
  {
   "cell_type": "code",
   "execution_count": 5,
   "metadata": {},
   "outputs": [
    {
     "name": "stdout",
     "output_type": "stream",
     "text": [
      "Who are you facing?ahri\n"
     ]
    }
   ],
   "source": [
    "matchup = getInput()\n",
    "matchup = checkAlpha(matchup)\n",
    "matchup_row = checkAvailable(matchup)\n",
    "info_list = getList()"
   ]
  },
  {
   "cell_type": "code",
   "execution_count": 10,
   "metadata": {},
   "outputs": [
    {
     "data": {
      "text/html": [
       "<div>\n",
       "<style>\n",
       "    .dataframe thead tr:only-child th {\n",
       "        text-align: right;\n",
       "    }\n",
       "\n",
       "    .dataframe thead th {\n",
       "        text-align: left;\n",
       "    }\n",
       "\n",
       "    .dataframe tbody tr th {\n",
       "        vertical-align: top;\n",
       "    }\n",
       "</style>\n",
       "<table border=\"1\" class=\"dataframe\">\n",
       "  <thead>\n",
       "    <tr style=\"text-align: right;\">\n",
       "      <th></th>\n",
       "      <th>Matchup</th>\n",
       "      <th>2nd Spell</th>\n",
       "      <th>Tips</th>\n",
       "      <th>Difficulty</th>\n",
       "    </tr>\n",
       "  </thead>\n",
       "  <tbody>\n",
       "    <tr>\n",
       "      <th>0</th>\n",
       "      <td>Ahri</td>\n",
       "      <td>Cleanse/Exhaust</td>\n",
       "      <td>It should be pretty easy lane pre 6. She will ...</td>\n",
       "      <td>Medium</td>\n",
       "    </tr>\n",
       "  </tbody>\n",
       "</table>\n",
       "</div>"
      ],
      "text/plain": [
       "  Matchup        2nd Spell                                               Tips  \\\n",
       "0    Ahri  Cleanse/Exhaust  It should be pretty easy lane pre 6. She will ...   \n",
       "\n",
       "  Difficulty  \n",
       "0     Medium  "
      ]
     },
     "execution_count": 10,
     "metadata": {},
     "output_type": "execute_result"
    }
   ],
   "source": [
    "matchup_row   # NEXT THING TO DO IS LOOK AT MATCHUP_ROW, AND FIND A WAY TO GET THE INDEX FROM IT \n",
    "              # IN ORDER TO USE info_list = df.iloc[0].values.tolist()\n",
    "              # WHICH IN TURN LETS US USE\n",
    "              # print(\"Against\", info_list[0])\n",
    "              # print(\"\\nDifficulty:\", info_list[3])\n",
    "              # print(\"\\nSummoner's:\", info_list[1], \"\\n\")\n",
    "              # print(info_list[2])"
   ]
  },
  {
   "cell_type": "code",
   "execution_count": 16,
   "metadata": {},
   "outputs": [],
   "source": [
    "df.matchup_row.index"
   ]
  },
  {
   "cell_type": "code",
   "execution_count": 19,
   "metadata": {},
   "outputs": [],
   "source": [
    "info_list = df.iloc[matchup_row.index].values.tolist()"
   ]
  },
  {
   "cell_type": "code",
   "execution_count": 22,
   "metadata": {},
   "outputs": [
    {
     "name": "stdout",
     "output_type": "stream",
     "text": [
      "Against Ahri\n",
      "\n",
      "Difficulty: Medium\n",
      "\n",
      "Summoner's: Cleanse/Exhaust \n",
      "\n",
      "It should be pretty easy lane pre 6. She will try to hit you and minions in the same time with her Q - try to dodge it. Maneuver near minions to avoid being hitted by her E. Punish her every time she uses Q or missed E. After 6 its going to be tricky because she can dash through your ultimate and get off the range of your soldiers (save at least 1 soldier for this). Her ult CD is 99 sec with 10% CDR and 88 sec with 20% - punish her. \n"
     ]
    }
   ],
   "source": [
    "print(\"Against\", info_list[0][0])\n",
    "print(\"\\nDifficulty:\", info_list[0][3])\n",
    "print(\"\\nSummoner's:\", info_list[0][1], \"\\n\")\n",
    "print(info_list[0][2])"
   ]
  },
  {
   "cell_type": "code",
   "execution_count": 114,
   "metadata": {},
   "outputs": [
    {
     "name": "stdout",
     "output_type": "stream",
     "text": [
      "Who are you facing?aatrox\n"
     ]
    }
   ],
   "source": [
    "matchup = input(\"Who are you facing?\")"
   ]
  },
  {
   "cell_type": "code",
   "execution_count": 116,
   "metadata": {
    "collapsed": true
   },
   "outputs": [],
   "source": [
    "if matchup.isalpha():        # check if alpha\n",
    "    matchup = matchup.title()"
   ]
  },
  {
   "cell_type": "code",
   "execution_count": 117,
   "metadata": {},
   "outputs": [
    {
     "data": {
      "text/plain": [
       "'Aatrox'"
      ]
     },
     "execution_count": 117,
     "metadata": {},
     "output_type": "execute_result"
    }
   ],
   "source": [
    "matchup"
   ]
  },
  {
   "cell_type": "code",
   "execution_count": 109,
   "metadata": {
    "collapsed": true
   },
   "outputs": [],
   "source": [
    "available_champs = df['Matchup'].tolist()"
   ]
  },
  {
   "cell_type": "code",
   "execution_count": 136,
   "metadata": {
    "scrolled": true
   },
   "outputs": [
    {
     "name": "stdout",
     "output_type": "stream",
     "text": [
      "Unavailable.\n",
      "Please choose from:\n",
      "Ahri\n",
      "Akali\n",
      "Anivia\n",
      "Annie\n",
      "Aurelion Sol\n",
      "Brand\n",
      "Cassiopeia\n",
      "Cho'Gath\n",
      "Corki\n",
      "Diana\n",
      "Ekko\n",
      "Ezreal\n",
      "Fizz\n",
      "Galio\n",
      "Gangplank\n",
      "Heimerdinger\n",
      "Jayce\n",
      "Karma\n",
      "Karthus\n",
      "Kassadin\n",
      "Katarina\n",
      "Kayle\n",
      "Kennen\n",
      "LeBlanc\n",
      "Lissandra\n",
      "Lucian\n",
      "Lulu\n",
      "Lux\n",
      "Malzahar\n",
      "Mordekaiser\n",
      "Morgana\n",
      "Orianna\n",
      "Pantheon\n",
      "Ryze\n",
      "Swain\n",
      "Syndra\n",
      "Taliyah\n",
      "Talon\n",
      "Teemo\n",
      "Twisted Fate\n",
      "Veigar\n",
      "Vel'Koz\n",
      "Viktor\n",
      "Vladimir\n",
      "Xerath\n",
      "Yasuo\n",
      "Zed\n",
      "Ziggs\n",
      "Zilean\n",
      "Zoe\n",
      "Zyra\n"
     ]
    }
   ],
   "source": [
    "if matchup in available_champs:\n",
    "    matchup_row = df[df['Matchup'] == matchup]\n",
    "else:\n",
    "    print(\"Unavailable.\")\n",
    "    print(\"Please choose from:\")\n",
    "    for i in range(len(available_champs)):\n",
    "        print(available_champs[i])"
   ]
  },
  {
   "cell_type": "code",
   "execution_count": 103,
   "metadata": {},
   "outputs": [
    {
     "data": {
      "text/html": [
       "<div>\n",
       "<style>\n",
       "    .dataframe thead tr:only-child th {\n",
       "        text-align: right;\n",
       "    }\n",
       "\n",
       "    .dataframe thead th {\n",
       "        text-align: left;\n",
       "    }\n",
       "\n",
       "    .dataframe tbody tr th {\n",
       "        vertical-align: top;\n",
       "    }\n",
       "</style>\n",
       "<table border=\"1\" class=\"dataframe\">\n",
       "  <thead>\n",
       "    <tr style=\"text-align: right;\">\n",
       "      <th></th>\n",
       "      <th>Matchup</th>\n",
       "      <th>2nd Spell</th>\n",
       "      <th>Tips</th>\n",
       "      <th>Difficulty</th>\n",
       "    </tr>\n",
       "  </thead>\n",
       "  <tbody>\n",
       "    <tr>\n",
       "      <th>0</th>\n",
       "      <td>Ahri</td>\n",
       "      <td>Cleanse/Exhaust</td>\n",
       "      <td>It should be pretty easy lane pre 6. She will ...</td>\n",
       "      <td>Medium</td>\n",
       "    </tr>\n",
       "  </tbody>\n",
       "</table>\n",
       "</div>"
      ],
      "text/plain": [
       "  Matchup        2nd Spell                                               Tips  \\\n",
       "0    Ahri  Cleanse/Exhaust  It should be pretty easy lane pre 6. She will ...   \n",
       "\n",
       "  Difficulty  \n",
       "0     Medium  "
      ]
     },
     "execution_count": 103,
     "metadata": {},
     "output_type": "execute_result"
    }
   ],
   "source": [
    "df[df['Matchup'].astype(str).str.contains(matchup)]"
   ]
  },
  {
   "cell_type": "code",
   "execution_count": null,
   "metadata": {
    "collapsed": true
   },
   "outputs": [],
   "source": []
  },
  {
   "cell_type": "code",
   "execution_count": 90,
   "metadata": {
    "collapsed": true
   },
   "outputs": [],
   "source": [
    "matchup_row = df[df['Matchup'] == matchup]"
   ]
  },
  {
   "cell_type": "code",
   "execution_count": 93,
   "metadata": {},
   "outputs": [
    {
     "data": {
      "text/html": [
       "<div>\n",
       "<style>\n",
       "    .dataframe thead tr:only-child th {\n",
       "        text-align: right;\n",
       "    }\n",
       "\n",
       "    .dataframe thead th {\n",
       "        text-align: left;\n",
       "    }\n",
       "\n",
       "    .dataframe tbody tr th {\n",
       "        vertical-align: top;\n",
       "    }\n",
       "</style>\n",
       "<table border=\"1\" class=\"dataframe\">\n",
       "  <thead>\n",
       "    <tr style=\"text-align: right;\">\n",
       "      <th></th>\n",
       "      <th>Matchup</th>\n",
       "      <th>2nd Spell</th>\n",
       "      <th>Tips</th>\n",
       "      <th>Difficulty</th>\n",
       "    </tr>\n",
       "  </thead>\n",
       "  <tbody>\n",
       "  </tbody>\n",
       "</table>\n",
       "</div>"
      ],
      "text/plain": [
       "Empty DataFrame\n",
       "Columns: [Matchup, 2nd Spell, Tips, Difficulty]\n",
       "Index: []"
      ]
     },
     "execution_count": 93,
     "metadata": {},
     "output_type": "execute_result"
    }
   ],
   "source": [
    "matchup_row"
   ]
  },
  {
   "cell_type": "markdown",
   "metadata": {},
   "source": []
  },
  {
   "cell_type": "code",
   "execution_count": 94,
   "metadata": {
    "collapsed": true
   },
   "outputs": [],
   "source": [
    "info_list = df.iloc[0].values.tolist()"
   ]
  },
  {
   "cell_type": "code",
   "execution_count": 95,
   "metadata": {},
   "outputs": [
    {
     "data": {
      "text/plain": [
       "['Ahri',\n",
       " 'Cleanse/Exhaust',\n",
       " 'It should be pretty easy lane pre 6. She will try to hit you and minions in the same time with her Q - try to dodge it. Maneuver near minions to avoid being hitted by her E. Punish her every time she uses Q or missed E. After 6 its going to be tricky because she can dash through your ultimate and get off the range of your soldiers (save at least 1 soldier for this). Her ult CD is 99 sec with 10% CDR and 88 sec with 20% - punish her. ',\n",
       " 'Medium']"
      ]
     },
     "execution_count": 95,
     "metadata": {},
     "output_type": "execute_result"
    }
   ],
   "source": [
    "info_list"
   ]
  },
  {
   "cell_type": "code",
   "execution_count": 141,
   "metadata": {},
   "outputs": [
    {
     "name": "stdout",
     "output_type": "stream",
     "text": [
      "Against Aatrox\n",
      "\n",
      "Difficulty: Medium\n",
      "\n",
      "Summoner's: Cleanse/Exhaust \n",
      "\n",
      "It should be pretty easy lane pre 6. She will try to hit you and minions in the same time with her Q - try to dodge it. Maneuver near minions to avoid being hitted by her E. Punish her every time she uses Q or missed E. After 6 its going to be tricky because she can dash through your ultimate and get off the range of your soldiers (save at least 1 soldier for this). Her ult CD is 99 sec with 10% CDR and 88 sec with 20% - punish her. \n"
     ]
    }
   ],
   "source": [
    "print(\"Against\", info_list[0])\n",
    "print(\"\\nDifficulty:\", info_list[3])\n",
    "print(\"\\nSummoner's:\", info_list[1], \"\\n\")\n",
    "print(info_list[2])\n",
    "\n",
    "\n"
   ]
  },
  {
   "cell_type": "code",
   "execution_count": null,
   "metadata": {
    "collapsed": true
   },
   "outputs": [],
   "source": []
  }
 ],
 "metadata": {
  "kernelspec": {
   "display_name": "Python 3",
   "language": "python",
   "name": "python3"
  },
  "language_info": {
   "codemirror_mode": {
    "name": "ipython",
    "version": 3
   },
   "file_extension": ".py",
   "mimetype": "text/x-python",
   "name": "python",
   "nbconvert_exporter": "python",
   "pygments_lexer": "ipython3",
   "version": "3.6.3"
  }
 },
 "nbformat": 4,
 "nbformat_minor": 2
}
